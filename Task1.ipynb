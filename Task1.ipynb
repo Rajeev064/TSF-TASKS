{
  "nbformat": 4,
  "nbformat_minor": 0,
  "metadata": {
    "colab": {
      "name": "Task1.ipynb",
      "provenance": [],
      "collapsed_sections": [],
      "authorship_tag": "ABX9TyORoryHX/6oGesZXlWq4+Kt",
      "include_colab_link": true
    },
    "kernelspec": {
      "name": "python3",
      "display_name": "Python 3"
    }
  },
  "cells": [
    {
      "cell_type": "markdown",
      "metadata": {
        "id": "view-in-github",
        "colab_type": "text"
      },
      "source": [
        "<a href=\"https://colab.research.google.com/github/Rajeev064/TSF-TASKS/blob/main/Task1.ipynb\" target=\"_parent\"><img src=\"https://colab.research.google.com/assets/colab-badge.svg\" alt=\"Open In Colab\"/></a>"
      ]
    },
    {
      "cell_type": "markdown",
      "metadata": {
        "id": "vzPdrUSMxq-T"
      },
      "source": [
        "# **Name :- Rajeev Singh**\r\n",
        "Task 1 :- Predicting Student marks using Regression"
      ]
    },
    {
      "cell_type": "markdown",
      "metadata": {
        "id": "Jw-KhfTuxyc1"
      },
      "source": [
        "Step 1 :- Importing Libraries and dataset"
      ]
    },
    {
      "cell_type": "code",
      "metadata": {
        "id": "gcGlvbOlPEao"
      },
      "source": [
        "import pandas as pd\n",
        "import numpy as np\n",
        "import matplotlib.pyplot as plt"
      ],
      "execution_count": null,
      "outputs": []
    },
    {
      "cell_type": "code",
      "metadata": {
        "colab": {
          "base_uri": "https://localhost:8080/"
        },
        "id": "IfBR0vgzQGDi",
        "outputId": "812718c4-dc0f-40cd-dfbb-5944edcf2f6f"
      },
      "source": [
        "url = 'https://raw.githubusercontent.com/AdiPersonalWorks/Random/master/student_scores%20-%20student_scores.csv'\n",
        "\n",
        "df = pd.read_csv(url)\n",
        "print(df)"
      ],
      "execution_count": null,
      "outputs": [
        {
          "output_type": "stream",
          "text": [
            "    Hours  Scores\n",
            "0     2.5      21\n",
            "1     5.1      47\n",
            "2     3.2      27\n",
            "3     8.5      75\n",
            "4     3.5      30\n",
            "5     1.5      20\n",
            "6     9.2      88\n",
            "7     5.5      60\n",
            "8     8.3      81\n",
            "9     2.7      25\n",
            "10    7.7      85\n",
            "11    5.9      62\n",
            "12    4.5      41\n",
            "13    3.3      42\n",
            "14    1.1      17\n",
            "15    8.9      95\n",
            "16    2.5      30\n",
            "17    1.9      24\n",
            "18    6.1      67\n",
            "19    7.4      69\n",
            "20    2.7      30\n",
            "21    4.8      54\n",
            "22    3.8      35\n",
            "23    6.9      76\n",
            "24    7.8      86\n"
          ],
          "name": "stdout"
        }
      ]
    },
    {
      "cell_type": "code",
      "metadata": {
        "colab": {
          "base_uri": "https://localhost:8080/"
        },
        "id": "a_ChHvthQUn0",
        "outputId": "80d7c863-677f-46c4-ff16-f115cf3e2185"
      },
      "source": [
        "df.shape"
      ],
      "execution_count": null,
      "outputs": [
        {
          "output_type": "execute_result",
          "data": {
            "text/plain": [
              "(25, 2)"
            ]
          },
          "metadata": {
            "tags": []
          },
          "execution_count": 10
        }
      ]
    },
    {
      "cell_type": "code",
      "metadata": {
        "colab": {
          "base_uri": "https://localhost:8080/",
          "height": 313
        },
        "id": "xPYsYnDLQ-4k",
        "outputId": "e5f57861-5e4b-4ff6-e642-c6e1ee90bed8"
      },
      "source": [
        "plt.figure(figsize=(15,15))\n",
        "\n",
        "df.plot(x='Hours',y='Scores',style='o')"
      ],
      "execution_count": null,
      "outputs": [
        {
          "output_type": "execute_result",
          "data": {
            "text/plain": [
              "<matplotlib.axes._subplots.AxesSubplot at 0x7fa8b7532b38>"
            ]
          },
          "metadata": {
            "tags": []
          },
          "execution_count": 17
        },
        {
          "output_type": "display_data",
          "data": {
            "text/plain": [
              "<Figure size 1080x1080 with 0 Axes>"
            ]
          },
          "metadata": {
            "tags": []
          }
        },
        {
          "output_type": "display_data",
          "data": {
            "image/png": "[encoded data removed]",
            "text/plain": [
              "<Figure size 432x288 with 1 Axes>"
            ]
          },
          "metadata": {
            "tags": [],
            "needs_background": "light"
          }
        }
      ]
    },
    {
      "cell_type": "markdown",
      "metadata": {
        "id": "10OnIjXRx5yh"
      },
      "source": [
        "Step 2:- Splitting data into 80:20 ratio"
      ]
    },
    {
      "cell_type": "code",
      "metadata": {
        "id": "NrCkkSZMRw3z"
      },
      "source": [
        "x = df.iloc[:, :-1].values \n",
        "y = df.iloc[:, 1].values "
      ],
      "execution_count": null,
      "outputs": []
    },
    {
      "cell_type": "code",
      "metadata": {
        "id": "5ca5fHLmS9EI"
      },
      "source": [
        "from sklearn.model_selection import train_test_split  \n",
        "X_train, X_test, y_train, y_test = train_test_split(x, y, \n",
        "                            test_size=0.2, random_state=0) "
      ],
      "execution_count": null,
      "outputs": []
    },
    {
      "cell_type": "code",
      "metadata": {
        "id": "XQ2mCxAZUUDB"
      },
      "source": [
        "# X_train = X = x.to_numpy().reshape(1,-1)\n",
        "# # X = X.reshape(1,-1)"
      ],
      "execution_count": null,
      "outputs": []
    },
    {
      "cell_type": "markdown",
      "metadata": {
        "id": "wpVwcDNvyFra"
      },
      "source": [
        "Step 3:- Prediction using Simple Linear Regression since we have only 1 feature in X"
      ]
    },
    {
      "cell_type": "code",
      "metadata": {
        "colab": {
          "base_uri": "https://localhost:8080/"
        },
        "id": "RKox05YkTPHt",
        "outputId": "84792a44-4d0f-435f-f49e-2df1f54e23cc"
      },
      "source": [
        "from sklearn.linear_model import LinearRegression  \n",
        "regressor = LinearRegression()  \n",
        "regressor.fit(X_train, y_train) "
      ],
      "execution_count": null,
      "outputs": [
        {
          "output_type": "execute_result",
          "data": {
            "text/plain": [
              "LinearRegression(copy_X=True, fit_intercept=True, n_jobs=None, normalize=False)"
            ]
          },
          "metadata": {
            "tags": []
          },
          "execution_count": 39
        }
      ]
    },
    {
      "cell_type": "code",
      "metadata": {
        "id": "Mtwn3HVqRbfT"
      },
      "source": [
        "acc = regressor.score(X_test,y_test) * 100"
      ],
      "execution_count": null,
      "outputs": []
    },
    {
      "cell_type": "code",
      "metadata": {
        "id": "HU_iXRTRWxqO"
      },
      "source": [
        "y_predict = regressor.predict(X_test)"
      ],
      "execution_count": null,
      "outputs": []
    },
    {
      "cell_type": "code",
      "metadata": {
        "id": "P2eg4Q_sU_JS"
      },
      "source": [
        "hours = np.array(9.25)\n",
        "hours = hours.reshape(-1,1)\n",
        "marks = regressor.predict(hours)"
      ],
      "execution_count": null,
      "outputs": []
    },
    {
      "cell_type": "code",
      "metadata": {
        "colab": {
          "base_uri": "https://localhost:8080/"
        },
        "id": "O4crCz37WbK_",
        "outputId": "24001a40-9aed-401c-bb4c-49459538945f"
      },
      "source": [
        "marks"
      ],
      "execution_count": null,
      "outputs": [
        {
          "output_type": "execute_result",
          "data": {
            "text/plain": [
              "array([93.69173249])"
            ]
          },
          "metadata": {
            "tags": []
          },
          "execution_count": 48
        }
      ]
    },
    {
      "cell_type": "markdown",
      "metadata": {
        "id": "zGEq3mOuyO-f"
      },
      "source": [
        "Step 4:- Analysis of Prediction"
      ]
    },
    {
      "cell_type": "code",
      "metadata": {
        "id": "uI1BUx_BWcaQ"
      },
      "source": [
        "from sklearn.metrics import mean_squared_error\n",
        "\n",
        "err = mean_squared_error(y_test,y_predict)"
      ],
      "execution_count": null,
      "outputs": []
    },
    {
      "cell_type": "code",
      "metadata": {
        "colab": {
          "base_uri": "https://localhost:8080/"
        },
        "id": "SmiYT1-uWEpt",
        "outputId": "3dfc2752-5f28-43c2-a327-e2b164c151fa"
      },
      "source": [
        "print(\"Result of the Program is\\n\"+\"Accuracy of the program :\"+str(acc)+\"\\n\"+\"Mean Square Error: \"+str(err)+\"\\n\"+\"Number of Hours Studied : \"+str(hours[0][0])+\"\\n\"+\"Predicted Marks :\"+str(marks[0]))"
      ],
      "execution_count": null,
      "outputs": [
        {
          "output_type": "stream",
          "text": [
            "Result of the Program is\n",
            "Accuracy of the program :94.54906892105353\n",
            "Mean Square Error: 21.598769307217456\n",
            "Number of Hours Studied : 9.25\n",
            "Predicted Marks :93.69173248737539\n"
          ],
          "name": "stdout"
        }
      ]
    }
  ]
}